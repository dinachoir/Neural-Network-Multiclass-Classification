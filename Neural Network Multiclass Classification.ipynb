{
 "cells": [
  {
   "cell_type": "markdown",
   "id": "fae49e8b",
   "metadata": {},
   "source": [
    "# Neural Network Multiclass Classification\n",
    "\n",
    "## Objective\n",
    "\n",
    "To build model to predict fashion items into classes\n",
    "\n",
    "## Data\n",
    "\n",
    "Fashion-MNIST is a dataset of Zalando's article images—consisting of a training set of 60,000 examples and a test set of 10,000 examples. Each example is a 28x28 grayscale image, associated with a label from 10 classes.\n",
    "\n",
    "https://github.com/zalandoresearch/fashion-mnist/blob/master/doc/img/fashion-mnist-sprite.png?raw=true\n",
    "\n",
    "### Labels\n",
    "\n",
    "Each training and test example is assigned to one of the following labels:\n",
    "\n",
    "| Label | Description |\n",
    "| ----------- | ----------- |\n",
    "| 0 | T-shirt/top |\n",
    "| 1 | Trouser |\n",
    "| 2 | Pullover |\n",
    "| 3 | Dress |\n",
    "| 4 | Coat |\n",
    "| 5 | Sandal |\n",
    "| 6 | Shirt |\n",
    "| 7 | Sneaker |\n",
    "| 8 | Bag |\n",
    "| 9 | Ankle boot |"
   ]
  },
  {
   "cell_type": "markdown",
   "id": "ff02778c",
   "metadata": {},
   "source": [
    "### Data Preparation"
   ]
  },
  {
   "cell_type": "code",
   "execution_count": 1,
   "id": "747123b2",
   "metadata": {},
   "outputs": [],
   "source": [
    "import tensorflow as tf\n",
    "from tensorflow.keras.datasets import fashion_mnist\n",
    "\n",
    "# the data has already been sorted into training and testing dataset \n",
    "(train_data, train_labels), (test_data, test_labels) = fashion_mnist.load_data()"
   ]
  },
  {
   "cell_type": "code",
   "execution_count": 2,
   "id": "2f067870",
   "metadata": {},
   "outputs": [
    {
     "name": "stdout",
     "output_type": "stream",
     "text": [
      "Training features:\n",
      "[[  0   0   0   0   0   0   0   0   0   0   0   0   0   0   0   0   0   0\n",
      "    0   0   0   0   0   0   0   0   0   0]\n",
      " [  0   0   0   0   0   0   0   0   0   0   0   0   0   0   0   0   0   0\n",
      "    0   0   0   0   0   0   0   0   0   0]\n",
      " [  0   0   0   0   0   0   0   0   0   0   0   0   0   0   0   0   0   0\n",
      "    0   0   0   0   0   0   0   0   0   0]\n",
      " [  0   0   0   0   0   0   0   0   0   0   0   0   1   0   0  13  73   0\n",
      "    0   1   4   0   0   0   0   1   1   0]\n",
      " [  0   0   0   0   0   0   0   0   0   0   0   0   3   0  36 136 127  62\n",
      "   54   0   0   0   1   3   4   0   0   3]\n",
      " [  0   0   0   0   0   0   0   0   0   0   0   0   6   0 102 204 176 134\n",
      "  144 123  23   0   0   0   0  12  10   0]\n",
      " [  0   0   0   0   0   0   0   0   0   0   0   0   0   0 155 236 207 178\n",
      "  107 156 161 109  64  23  77 130  72  15]\n",
      " [  0   0   0   0   0   0   0   0   0   0   0   1   0  69 207 223 218 216\n",
      "  216 163 127 121 122 146 141  88 172  66]\n",
      " [  0   0   0   0   0   0   0   0   0   1   1   1   0 200 232 232 233 229\n",
      "  223 223 215 213 164 127 123 196 229   0]\n",
      " [  0   0   0   0   0   0   0   0   0   0   0   0   0 183 225 216 223 228\n",
      "  235 227 224 222 224 221 223 245 173   0]\n",
      " [  0   0   0   0   0   0   0   0   0   0   0   0   0 193 228 218 213 198\n",
      "  180 212 210 211 213 223 220 243 202   0]\n",
      " [  0   0   0   0   0   0   0   0   0   1   3   0  12 219 220 212 218 192\n",
      "  169 227 208 218 224 212 226 197 209  52]\n",
      " [  0   0   0   0   0   0   0   0   0   0   6   0  99 244 222 220 218 203\n",
      "  198 221 215 213 222 220 245 119 167  56]\n",
      " [  0   0   0   0   0   0   0   0   0   4   0   0  55 236 228 230 228 240\n",
      "  232 213 218 223 234 217 217 209  92   0]\n",
      " [  0   0   1   4   6   7   2   0   0   0   0   0 237 226 217 223 222 219\n",
      "  222 221 216 223 229 215 218 255  77   0]\n",
      " [  0   3   0   0   0   0   0   0   0  62 145 204 228 207 213 221 218 208\n",
      "  211 218 224 223 219 215 224 244 159   0]\n",
      " [  0   0   0   0  18  44  82 107 189 228 220 222 217 226 200 205 211 230\n",
      "  224 234 176 188 250 248 233 238 215   0]\n",
      " [  0  57 187 208 224 221 224 208 204 214 208 209 200 159 245 193 206 223\n",
      "  255 255 221 234 221 211 220 232 246   0]\n",
      " [  3 202 228 224 221 211 211 214 205 205 205 220 240  80 150 255 229 221\n",
      "  188 154 191 210 204 209 222 228 225   0]\n",
      " [ 98 233 198 210 222 229 229 234 249 220 194 215 217 241  65  73 106 117\n",
      "  168 219 221 215 217 223 223 224 229  29]\n",
      " [ 75 204 212 204 193 205 211 225 216 185 197 206 198 213 240 195 227 245\n",
      "  239 223 218 212 209 222 220 221 230  67]\n",
      " [ 48 203 183 194 213 197 185 190 194 192 202 214 219 221 220 236 225 216\n",
      "  199 206 186 181 177 172 181 205 206 115]\n",
      " [  0 122 219 193 179 171 183 196 204 210 213 207 211 210 200 196 194 191\n",
      "  195 191 198 192 176 156 167 177 210  92]\n",
      " [  0   0  74 189 212 191 175 172 175 181 185 188 189 188 193 198 204 209\n",
      "  210 210 211 188 188 194 192 216 170   0]\n",
      " [  2   0   0   0  66 200 222 237 239 242 246 243 244 221 220 193 191 179\n",
      "  182 182 181 176 166 168  99  58   0   0]\n",
      " [  0   0   0   0   0   0   0  40  61  44  72  41  35   0   0   0   0   0\n",
      "    0   0   0   0   0   0   0   0   0   0]\n",
      " [  0   0   0   0   0   0   0   0   0   0   0   0   0   0   0   0   0   0\n",
      "    0   0   0   0   0   0   0   0   0   0]\n",
      " [  0   0   0   0   0   0   0   0   0   0   0   0   0   0   0   0   0   0\n",
      "    0   0   0   0   0   0   0   0   0   0]]\n",
      "\n",
      "Training label:\n",
      "9\n"
     ]
    }
   ],
   "source": [
    "# view dataset\n",
    "print(f\"Training features:\\n{train_data[0]}\\n\")\n",
    "print(f\"Training label:\\n{train_labels[0]}\")"
   ]
  },
  {
   "cell_type": "code",
   "execution_count": 3,
   "id": "6d61157f",
   "metadata": {},
   "outputs": [
    {
     "data": {
      "text/plain": [
       "((60000, 28, 28), (60000,), (10000, 28, 28), (10000,))"
      ]
     },
     "execution_count": 3,
     "metadata": {},
     "output_type": "execute_result"
    }
   ],
   "source": [
    "# check data shape\n",
    "train_data.shape, train_labels.shape, test_data.shape, test_labels.shape"
   ]
  },
  {
   "cell_type": "code",
   "execution_count": 4,
   "id": "823dd8c1",
   "metadata": {},
   "outputs": [
    {
     "data": {
      "text/plain": [
       "((28, 28), ())"
      ]
     },
     "execution_count": 4,
     "metadata": {},
     "output_type": "execute_result"
    }
   ],
   "source": [
    "# check 1 sample data shape\n",
    "train_data[0].shape, train_labels[0].shape"
   ]
  },
  {
   "cell_type": "markdown",
   "id": "85070f6b",
   "metadata": {},
   "source": [
    "dataset contains 60000 training samples, and 10000 testing samples with image size (28 pixel x 28 pixel)"
   ]
  },
  {
   "cell_type": "code",
   "execution_count": 5,
   "id": "5a550f26",
   "metadata": {},
   "outputs": [
    {
     "data": {
      "text/plain": [
       "10"
      ]
     },
     "execution_count": 5,
     "metadata": {},
     "output_type": "execute_result"
    }
   ],
   "source": [
    "# define class name\n",
    "class_names = ['T-shirt/top', 'Trouser', 'Pullover', 'Dress', 'Coat', \n",
    "               'Sandal', 'Shirt', 'Sneaker', 'Bag', 'Ankle boot']\n",
    "\n",
    "# number of classes \n",
    "len(class_names)"
   ]
  },
  {
   "cell_type": "code",
   "execution_count": 6,
   "id": "c3b568c8",
   "metadata": {},
   "outputs": [
    {
     "name": "stdout",
     "output_type": "stream",
     "text": [
      "Label Fashion: 2 (Pullover)\n"
     ]
    },
    {
     "data": {
      "image/png": "[encoded data removed]",
      "text/plain": [
       "<Figure size 432x288 with 1 Axes>"
      ]
     },
     "metadata": {
      "needs_background": "light"
     },
     "output_type": "display_data"
    }
   ],
   "source": [
    "# plot 1 sample\n",
    "import matplotlib.pyplot as plt\n",
    "\n",
    "i=37\n",
    "\n",
    "plt.imshow(train_data[i])\n",
    "\n",
    "# print the label\n",
    "print(f\"Label Fashion: {train_labels[i]} ({class_names[train_labels[i]]})\")"
   ]
  },
  {
   "cell_type": "markdown",
   "id": "267d2bc1",
   "metadata": {},
   "source": [
    "#### Scaling data (Normalization)"
   ]
  },
  {
   "cell_type": "code",
   "execution_count": 7,
   "id": "cad52371",
   "metadata": {},
   "outputs": [
    {
     "data": {
      "text/plain": [
       "(0, 255)"
      ]
     },
     "execution_count": 7,
     "metadata": {},
     "output_type": "execute_result"
    }
   ],
   "source": [
    "# Check the min and max values of the training data\n",
    "train_data.min(), train_data.max()"
   ]
  },
  {
   "cell_type": "code",
   "execution_count": 8,
   "id": "ccea4e80",
   "metadata": {},
   "outputs": [
    {
     "data": {
      "text/plain": [
       "(0.0, 1.0)"
      ]
     },
     "execution_count": 8,
     "metadata": {},
     "output_type": "execute_result"
    }
   ],
   "source": [
    "# Divide train and test data values by the maximum value (normalize it)\n",
    "train_data = train_data / 255.0\n",
    "test_data = test_data / 255.0\n",
    "\n",
    "# Check the min and max values of the training data\n",
    "train_data.min(), train_data.max()"
   ]
  },
  {
   "cell_type": "markdown",
   "id": "569bdd34",
   "metadata": {},
   "source": [
    "data is normalized and the values are between 0 and 1"
   ]
  },
  {
   "cell_type": "markdown",
   "id": "231b1641",
   "metadata": {},
   "source": [
    "#### Neural Network Architecture\n",
    "\n",
    "1. **Input shape** : the shape of input tensor is 28x28 (height and width image), we have to make this tensor as a vector with the shape of (784)\n",
    "2. **Output shape** : 10 becasue the model will predict data into 10 different classes. \n",
    "3. **Loss Function** : multiclass loss function (categoricalcrossentropy())\n"
   ]
  },
  {
   "cell_type": "markdown",
   "id": "30ac8ccb",
   "metadata": {},
   "source": [
    "### Model 1"
   ]
  },
  {
   "cell_type": "code",
   "execution_count": 9,
   "id": "c751880c",
   "metadata": {},
   "outputs": [
    {
     "name": "stdout",
     "output_type": "stream",
     "text": [
      "Epoch 1/10\n",
      "1875/1875 [==============================] - 5s 2ms/step - loss: 0.7501 - accuracy: 0.7416 - val_loss: 0.5449 - val_accuracy: 0.8131\n",
      "Epoch 2/10\n",
      "1875/1875 [==============================] - 4s 2ms/step - loss: 0.5023 - accuracy: 0.8263 - val_loss: 0.5863 - val_accuracy: 0.8027\n",
      "Epoch 3/10\n",
      "1875/1875 [==============================] - 4s 2ms/step - loss: 0.4681 - accuracy: 0.8386 - val_loss: 0.5106 - val_accuracy: 0.8163\n",
      "Epoch 4/10\n",
      "1875/1875 [==============================] - 5s 2ms/step - loss: 0.4490 - accuracy: 0.8456 - val_loss: 0.4888 - val_accuracy: 0.8293\n",
      "Epoch 5/10\n",
      "1875/1875 [==============================] - 4s 2ms/step - loss: 0.4407 - accuracy: 0.8467 - val_loss: 0.5037 - val_accuracy: 0.8226\n",
      "Epoch 6/10\n",
      "1875/1875 [==============================] - 4s 2ms/step - loss: 0.4323 - accuracy: 0.8504 - val_loss: 0.4788 - val_accuracy: 0.8339\n",
      "Epoch 7/10\n",
      "1875/1875 [==============================] - 4s 2ms/step - loss: 0.4262 - accuracy: 0.8511 - val_loss: 0.4784 - val_accuracy: 0.8344\n",
      "Epoch 8/10\n",
      "1875/1875 [==============================] - 5s 2ms/step - loss: 0.4210 - accuracy: 0.8529 - val_loss: 0.4660 - val_accuracy: 0.8405\n",
      "Epoch 9/10\n",
      "1875/1875 [==============================] - 5s 2ms/step - loss: 0.4160 - accuracy: 0.8551 - val_loss: 0.4552 - val_accuracy: 0.8395\n",
      "Epoch 10/10\n",
      "1875/1875 [==============================] - 4s 2ms/step - loss: 0.4144 - accuracy: 0.8546 - val_loss: 0.4683 - val_accuracy: 0.8366\n"
     ]
    }
   ],
   "source": [
    "# set random seed\n",
    "tf.random.set_seed(42)\n",
    "\n",
    "# create the model\n",
    "model_1  = tf.keras.Sequential([\n",
    "    tf.keras.layers.Flatten(input_shape=(28,28)), # reshape tensor (28 x 28) to (784)\n",
    "    tf.keras.layers.Dense(8, activation='relu'),\n",
    "    tf.keras.layers.Dense(8, activation='relu'),\n",
    "    tf.keras.layers.Dense(10, activation='softmax')\n",
    "])\n",
    "\n",
    "# compile the model\n",
    "model_1.compile(loss=tf.keras.losses.SparseCategoricalCrossentropy(), # use SparseCategoricalCrossentropy() so we don't need to one-hot-encode classes\n",
    "                optimizer=tf.keras.optimizers.Adam(),\n",
    "                metrics=['accuracy'])\n",
    "\n",
    "# fit he model\n",
    "norm_history = model_1.fit(train_data,\n",
    "                          train_labels,\n",
    "                          epochs=10,\n",
    "                          validation_data=(test_data, test_labels))"
   ]
  },
  {
   "cell_type": "code",
   "execution_count": 10,
   "id": "8d33ef0d",
   "metadata": {},
   "outputs": [
    {
     "data": {
      "text/plain": [
       "<AxesSubplot:title={'center':'Model 1 (Normalized)'}>"
      ]
     },
     "execution_count": 10,
     "metadata": {},
     "output_type": "execute_result"
    },
    {
     "data": {
      "image/png": "[encoded data removed]",
      "text/plain": [
       "<Figure size 432x288 with 1 Axes>"
      ]
     },
     "metadata": {
      "needs_background": "light"
     },
     "output_type": "display_data"
    }
   ],
   "source": [
    "# plot loss curves / model history\n",
    "import pandas as pd\n",
    "pd.DataFrame(norm_history.history).plot(title='Model 1 (Normalized)')"
   ]
  },
  {
   "cell_type": "markdown",
   "id": "a14d6eef",
   "metadata": {},
   "source": [
    "### Model 2 : Find the ideal learning rate"
   ]
  },
  {
   "cell_type": "code",
   "execution_count": 11,
   "id": "bb60199b",
   "metadata": {},
   "outputs": [
    {
     "name": "stdout",
     "output_type": "stream",
     "text": [
      "Epoch 1/40\n",
      "1875/1875 [==============================] - 4s 2ms/step - loss: 0.7501 - accuracy: 0.7416 - val_loss: 0.5449 - val_accuracy: 0.8131 - lr: 0.0010\n",
      "Epoch 2/40\n",
      "1875/1875 [==============================] - 4s 2ms/step - loss: 0.5027 - accuracy: 0.8260 - val_loss: 0.6001 - val_accuracy: 0.8003 - lr: 0.0011\n",
      "Epoch 3/40\n",
      "1875/1875 [==============================] - 3s 2ms/step - loss: 0.4696 - accuracy: 0.8380 - val_loss: 0.5108 - val_accuracy: 0.8167 - lr: 0.0013\n",
      "Epoch 4/40\n",
      "1875/1875 [==============================] - 3s 2ms/step - loss: 0.4524 - accuracy: 0.8437 - val_loss: 0.4900 - val_accuracy: 0.8287 - lr: 0.0014\n",
      "Epoch 5/40\n",
      "1875/1875 [==============================] - 5s 3ms/step - loss: 0.4467 - accuracy: 0.8441 - val_loss: 0.5107 - val_accuracy: 0.8182 - lr: 0.0016\n",
      "Epoch 6/40\n",
      "1875/1875 [==============================] - 4s 2ms/step - loss: 0.4396 - accuracy: 0.8468 - val_loss: 0.4926 - val_accuracy: 0.8250 - lr: 0.0018\n",
      "Epoch 7/40\n",
      "1875/1875 [==============================] - 5s 2ms/step - loss: 0.4375 - accuracy: 0.8468 - val_loss: 0.4647 - val_accuracy: 0.8395 - lr: 0.0020\n",
      "Epoch 8/40\n",
      "1875/1875 [==============================] - 4s 2ms/step - loss: 0.4348 - accuracy: 0.8473 - val_loss: 0.4712 - val_accuracy: 0.8373 - lr: 0.0022\n",
      "Epoch 9/40\n",
      "1875/1875 [==============================] - 5s 2ms/step - loss: 0.4315 - accuracy: 0.8474 - val_loss: 0.4690 - val_accuracy: 0.8348 - lr: 0.0025\n",
      "Epoch 10/40\n",
      "1875/1875 [==============================] - 4s 2ms/step - loss: 0.4332 - accuracy: 0.8473 - val_loss: 0.5147 - val_accuracy: 0.8227 - lr: 0.0028\n",
      "Epoch 11/40\n",
      "1875/1875 [==============================] - 4s 2ms/step - loss: 0.4358 - accuracy: 0.8454 - val_loss: 0.4801 - val_accuracy: 0.8302 - lr: 0.0032\n",
      "Epoch 12/40\n",
      "1875/1875 [==============================] - 4s 2ms/step - loss: 0.4305 - accuracy: 0.8486 - val_loss: 0.4672 - val_accuracy: 0.8348 - lr: 0.0035\n",
      "Epoch 13/40\n",
      "1875/1875 [==============================] - 4s 2ms/step - loss: 0.4342 - accuracy: 0.8484 - val_loss: 0.5414 - val_accuracy: 0.8233 - lr: 0.0040\n",
      "Epoch 14/40\n",
      "1875/1875 [==============================] - 4s 2ms/step - loss: 0.4335 - accuracy: 0.8485 - val_loss: 0.4790 - val_accuracy: 0.8330 - lr: 0.0045\n",
      "Epoch 15/40\n",
      "1875/1875 [==============================] - 4s 2ms/step - loss: 0.4385 - accuracy: 0.8446 - val_loss: 0.4916 - val_accuracy: 0.8224 - lr: 0.0050\n",
      "Epoch 16/40\n",
      "1875/1875 [==============================] - 4s 2ms/step - loss: 0.4334 - accuracy: 0.8462 - val_loss: 0.4575 - val_accuracy: 0.8366 - lr: 0.0056\n",
      "Epoch 17/40\n",
      "1875/1875 [==============================] - 4s 2ms/step - loss: 0.4334 - accuracy: 0.8472 - val_loss: 0.4802 - val_accuracy: 0.8287 - lr: 0.0063\n",
      "Epoch 18/40\n",
      "1875/1875 [==============================] - 4s 2ms/step - loss: 0.4357 - accuracy: 0.8455 - val_loss: 0.4542 - val_accuracy: 0.8438 - lr: 0.0071\n",
      "Epoch 19/40\n",
      "1875/1875 [==============================] - 3s 2ms/step - loss: 0.4371 - accuracy: 0.8458 - val_loss: 0.4575 - val_accuracy: 0.8388 - lr: 0.0079\n",
      "Epoch 20/40\n",
      "1875/1875 [==============================] - 4s 2ms/step - loss: 0.4476 - accuracy: 0.8436 - val_loss: 0.4632 - val_accuracy: 0.8357 - lr: 0.0089\n",
      "Epoch 21/40\n",
      "1875/1875 [==============================] - 5s 2ms/step - loss: 0.4485 - accuracy: 0.8429 - val_loss: 0.5172 - val_accuracy: 0.8238 - lr: 0.0100\n",
      "Epoch 22/40\n",
      "1875/1875 [==============================] - 5s 2ms/step - loss: 0.4528 - accuracy: 0.8394 - val_loss: 0.4721 - val_accuracy: 0.8324 - lr: 0.0112\n",
      "Epoch 23/40\n",
      "1875/1875 [==============================] - 4s 2ms/step - loss: 0.4577 - accuracy: 0.8401 - val_loss: 0.5297 - val_accuracy: 0.8193 - lr: 0.0126\n",
      "Epoch 24/40\n",
      "1875/1875 [==============================] - 4s 2ms/step - loss: 0.4718 - accuracy: 0.8354 - val_loss: 0.5424 - val_accuracy: 0.8205 - lr: 0.0141\n",
      "Epoch 25/40\n",
      "1875/1875 [==============================] - 5s 3ms/step - loss: 0.4783 - accuracy: 0.8353 - val_loss: 0.4722 - val_accuracy: 0.8343 - lr: 0.0158\n",
      "Epoch 26/40\n",
      "1875/1875 [==============================] - 4s 2ms/step - loss: 0.4989 - accuracy: 0.8308 - val_loss: 0.5229 - val_accuracy: 0.8255 - lr: 0.0178\n",
      "Epoch 27/40\n",
      "1875/1875 [==============================] - 5s 2ms/step - loss: 0.5175 - accuracy: 0.8268 - val_loss: 0.5853 - val_accuracy: 0.8061 - lr: 0.0200\n",
      "Epoch 28/40\n",
      "1875/1875 [==============================] - 5s 2ms/step - loss: 0.5248 - accuracy: 0.8252 - val_loss: 0.5957 - val_accuracy: 0.8006 - lr: 0.0224\n",
      "Epoch 29/40\n",
      "1875/1875 [==============================] - 4s 2ms/step - loss: 0.5566 - accuracy: 0.8155 - val_loss: 0.5726 - val_accuracy: 0.8053 - lr: 0.0251\n",
      "Epoch 30/40\n",
      "1875/1875 [==============================] - 4s 2ms/step - loss: 0.5869 - accuracy: 0.8039 - val_loss: 0.6764 - val_accuracy: 0.7496 - lr: 0.0282\n",
      "Epoch 31/40\n",
      "1875/1875 [==============================] - 4s 2ms/step - loss: 0.6462 - accuracy: 0.7729 - val_loss: 0.6859 - val_accuracy: 0.7680 - lr: 0.0316\n",
      "Epoch 32/40\n",
      "1875/1875 [==============================] - 5s 2ms/step - loss: 0.7009 - accuracy: 0.7505 - val_loss: 0.8738 - val_accuracy: 0.7247 - lr: 0.0355\n",
      "Epoch 33/40\n",
      "1875/1875 [==============================] - 4s 2ms/step - loss: 0.7770 - accuracy: 0.7302 - val_loss: 0.8532 - val_accuracy: 0.7240 - lr: 0.0398\n",
      "Epoch 34/40\n",
      "1875/1875 [==============================] - 4s 2ms/step - loss: 0.9921 - accuracy: 0.6299 - val_loss: 1.2679 - val_accuracy: 0.4993 - lr: 0.0447\n",
      "Epoch 35/40\n",
      "1875/1875 [==============================] - 3s 2ms/step - loss: 1.1672 - accuracy: 0.5310 - val_loss: 1.4237 - val_accuracy: 0.4325 - lr: 0.0501\n",
      "Epoch 36/40\n",
      "1875/1875 [==============================] - 4s 2ms/step - loss: 1.2675 - accuracy: 0.4790 - val_loss: 1.3707 - val_accuracy: 0.4339 - lr: 0.0562\n",
      "Epoch 37/40\n",
      "1875/1875 [==============================] - 5s 3ms/step - loss: 1.2364 - accuracy: 0.4963 - val_loss: 1.2754 - val_accuracy: 0.4193 - lr: 0.0631\n",
      "Epoch 38/40\n",
      "1875/1875 [==============================] - 4s 2ms/step - loss: 1.4790 - accuracy: 0.4154 - val_loss: 1.5465 - val_accuracy: 0.3411 - lr: 0.0708\n",
      "Epoch 39/40\n",
      "1875/1875 [==============================] - 3s 2ms/step - loss: 1.6179 - accuracy: 0.2865 - val_loss: 1.5306 - val_accuracy: 0.2885 - lr: 0.0794\n",
      "Epoch 40/40\n",
      "1875/1875 [==============================] - 4s 2ms/step - loss: 1.5938 - accuracy: 0.2883 - val_loss: 1.5896 - val_accuracy: 0.2692 - lr: 0.0891\n"
     ]
    }
   ],
   "source": [
    "# set randomm seed\n",
    "tf.random.set_seed(42)\n",
    "\n",
    "# create the model \n",
    "model_2 = tf.keras.Sequential([\n",
    "    tf.keras.layers.Flatten(input_shape=(28,28)),\n",
    "    tf.keras.layers.Dense(8, activation='relu'),\n",
    "    tf.keras.layers.Dense(8, activation='relu'),\n",
    "    tf.keras.layers.Dense(10, activation='softmax')\n",
    "])\n",
    "\n",
    "# compile the model\n",
    "model_2.compile(loss=tf.keras.losses.SparseCategoricalCrossentropy(),\n",
    "               optimizer=tf.keras.optimizers.Adam(),\n",
    "               metrics=['accuracy'])\n",
    "\n",
    "# create the learning rate callback\n",
    "lr_scheduler = tf.keras.callbacks.LearningRateScheduler(lambda epoch: 1e-3 * 10**(epoch/20))\n",
    "\n",
    "# fit the model \n",
    "find_lr_history = model_2.fit(train_data,\n",
    "                             train_labels,\n",
    "                             epochs=40,\n",
    "                             validation_data=(test_data, test_labels),\n",
    "                             callbacks=[lr_scheduler])"
   ]
  },
  {
   "cell_type": "code",
   "execution_count": 12,
   "id": "44156add",
   "metadata": {},
   "outputs": [
    {
     "data": {
      "text/plain": [
       "Text(0.5, 1.0, 'Learning Rate Decay Curve')"
      ]
     },
     "execution_count": 12,
     "metadata": {},
     "output_type": "execute_result"
    },
    {
     "data": {
      "image/png": "[encoded data removed]",
      "text/plain": [
       "<Figure size 432x288 with 1 Axes>"
      ]
     },
     "metadata": {
      "needs_background": "light"
     },
     "output_type": "display_data"
    }
   ],
   "source": [
    "# plot learning rate decay curve\n",
    "import numpy as np\n",
    "import matplotlib.pyplot as plt\n",
    "\n",
    "lrs = 1e-3 * (10**(np.arange(40)/20))\n",
    "plt.semilogx(lrs, find_lr_history.history['loss'])\n",
    "plt.xlabel('Learning Rate')\n",
    "plt.ylabel('Loss')\n",
    "plt.title('Learning Rate Decay Curve')"
   ]
  },
  {
   "cell_type": "markdown",
   "id": "eb2199ca",
   "metadata": {},
   "source": [
    "The ideal learning rate is somewhere close to the default learning rate of the Adam optimizer (0.001), let's say 0.001. Then refit the model using the ideal learning rate."
   ]
  },
  {
   "cell_type": "markdown",
   "id": "f6b70963",
   "metadata": {},
   "source": [
    "### Model 3 : Refit model using the ideal learning rate"
   ]
  },
  {
   "cell_type": "code",
   "execution_count": 13,
   "id": "de2ce752",
   "metadata": {},
   "outputs": [
    {
     "name": "stdout",
     "output_type": "stream",
     "text": [
      "Epoch 1/40\n"
     ]
    },
    {
     "name": "stderr",
     "output_type": "stream",
     "text": [
      "C:\\Users\\ASUS\\anaconda3\\lib\\site-packages\\keras\\optimizers\\optimizer_v2\\adam.py:110: UserWarning: The `lr` argument is deprecated, use `learning_rate` instead.\n",
      "  super(Adam, self).__init__(name, **kwargs)\n"
     ]
    },
    {
     "name": "stdout",
     "output_type": "stream",
     "text": [
      "1875/1875 [==============================] - 5s 3ms/step - loss: 0.7501 - accuracy: 0.7416 - val_loss: 0.5449 - val_accuracy: 0.8131\n",
      "Epoch 2/40\n",
      "1875/1875 [==============================] - 5s 2ms/step - loss: 0.5023 - accuracy: 0.8263 - val_loss: 0.5863 - val_accuracy: 0.8027\n",
      "Epoch 3/40\n",
      "1875/1875 [==============================] - 5s 2ms/step - loss: 0.4681 - accuracy: 0.8386 - val_loss: 0.5106 - val_accuracy: 0.8163\n",
      "Epoch 4/40\n",
      "1875/1875 [==============================] - 5s 2ms/step - loss: 0.4490 - accuracy: 0.8456 - val_loss: 0.4888 - val_accuracy: 0.8293\n",
      "Epoch 5/40\n",
      "1875/1875 [==============================] - 5s 2ms/step - loss: 0.4407 - accuracy: 0.8467 - val_loss: 0.5037 - val_accuracy: 0.8226\n",
      "Epoch 6/40\n",
      "1875/1875 [==============================] - 4s 2ms/step - loss: 0.4323 - accuracy: 0.8504 - val_loss: 0.4788 - val_accuracy: 0.8339\n",
      "Epoch 7/40\n",
      "1875/1875 [==============================] - 4s 2ms/step - loss: 0.4262 - accuracy: 0.8511 - val_loss: 0.4784 - val_accuracy: 0.8344\n",
      "Epoch 8/40\n",
      "1875/1875 [==============================] - 5s 2ms/step - loss: 0.4210 - accuracy: 0.8529 - val_loss: 0.4660 - val_accuracy: 0.8405\n",
      "Epoch 9/40\n",
      "1875/1875 [==============================] - 4s 2ms/step - loss: 0.4160 - accuracy: 0.8551 - val_loss: 0.4552 - val_accuracy: 0.8395\n",
      "Epoch 10/40\n",
      "1875/1875 [==============================] - 3s 2ms/step - loss: 0.4144 - accuracy: 0.8546 - val_loss: 0.4683 - val_accuracy: 0.8366\n",
      "Epoch 11/40\n",
      "1875/1875 [==============================] - 4s 2ms/step - loss: 0.4110 - accuracy: 0.8555 - val_loss: 0.4541 - val_accuracy: 0.8404\n",
      "Epoch 12/40\n",
      "1875/1875 [==============================] - 4s 2ms/step - loss: 0.4052 - accuracy: 0.8573 - val_loss: 0.4539 - val_accuracy: 0.8392\n",
      "Epoch 13/40\n",
      "1875/1875 [==============================] - 4s 2ms/step - loss: 0.4042 - accuracy: 0.8576 - val_loss: 0.4597 - val_accuracy: 0.8402\n",
      "Epoch 14/40\n",
      "1875/1875 [==============================] - 4s 2ms/step - loss: 0.4021 - accuracy: 0.8583 - val_loss: 0.4621 - val_accuracy: 0.8396\n",
      "Epoch 15/40\n",
      "1875/1875 [==============================] - 4s 2ms/step - loss: 0.4010 - accuracy: 0.8591 - val_loss: 0.4591 - val_accuracy: 0.8364\n",
      "Epoch 16/40\n",
      "1875/1875 [==============================] - 4s 2ms/step - loss: 0.3979 - accuracy: 0.8597 - val_loss: 0.4549 - val_accuracy: 0.8422\n",
      "Epoch 17/40\n",
      "1875/1875 [==============================] - 4s 2ms/step - loss: 0.3952 - accuracy: 0.8610 - val_loss: 0.4552 - val_accuracy: 0.8388\n",
      "Epoch 18/40\n",
      "1875/1875 [==============================] - 5s 3ms/step - loss: 0.3945 - accuracy: 0.8604 - val_loss: 0.4439 - val_accuracy: 0.8452\n",
      "Epoch 19/40\n",
      "1875/1875 [==============================] - 4s 2ms/step - loss: 0.3922 - accuracy: 0.8613 - val_loss: 0.4712 - val_accuracy: 0.8353\n",
      "Epoch 20/40\n",
      "1875/1875 [==============================] - 4s 2ms/step - loss: 0.3908 - accuracy: 0.8610 - val_loss: 0.4530 - val_accuracy: 0.8406\n",
      "Epoch 21/40\n",
      "1875/1875 [==============================] - 4s 2ms/step - loss: 0.3890 - accuracy: 0.8624 - val_loss: 0.4492 - val_accuracy: 0.8423\n",
      "Epoch 22/40\n",
      "1875/1875 [==============================] - 4s 2ms/step - loss: 0.3876 - accuracy: 0.8634 - val_loss: 0.4542 - val_accuracy: 0.8405\n",
      "Epoch 23/40\n",
      "1875/1875 [==============================] - 4s 2ms/step - loss: 0.3863 - accuracy: 0.8635 - val_loss: 0.4699 - val_accuracy: 0.8350\n",
      "Epoch 24/40\n",
      "1875/1875 [==============================] - 4s 2ms/step - loss: 0.3855 - accuracy: 0.8628 - val_loss: 0.4943 - val_accuracy: 0.8286\n",
      "Epoch 25/40\n",
      "1875/1875 [==============================] - 4s 2ms/step - loss: 0.3832 - accuracy: 0.8637 - val_loss: 0.4623 - val_accuracy: 0.8373\n",
      "Epoch 26/40\n",
      "1875/1875 [==============================] - 4s 2ms/step - loss: 0.3858 - accuracy: 0.8623 - val_loss: 0.4472 - val_accuracy: 0.8425\n",
      "Epoch 27/40\n",
      "1875/1875 [==============================] - 4s 2ms/step - loss: 0.3835 - accuracy: 0.8641 - val_loss: 0.4497 - val_accuracy: 0.8398\n",
      "Epoch 28/40\n",
      "1875/1875 [==============================] - 4s 2ms/step - loss: 0.3800 - accuracy: 0.8647 - val_loss: 0.4511 - val_accuracy: 0.8425\n",
      "Epoch 29/40\n",
      "1875/1875 [==============================] - 4s 2ms/step - loss: 0.3806 - accuracy: 0.8641 - val_loss: 0.4547 - val_accuracy: 0.8414\n",
      "Epoch 30/40\n",
      "1875/1875 [==============================] - 4s 2ms/step - loss: 0.3807 - accuracy: 0.8648 - val_loss: 0.4600 - val_accuracy: 0.8398\n",
      "Epoch 31/40\n",
      "1875/1875 [==============================] - 4s 2ms/step - loss: 0.3784 - accuracy: 0.8659 - val_loss: 0.4652 - val_accuracy: 0.8347\n",
      "Epoch 32/40\n",
      "1875/1875 [==============================] - 5s 3ms/step - loss: 0.3794 - accuracy: 0.8651 - val_loss: 0.4537 - val_accuracy: 0.8421\n",
      "Epoch 33/40\n",
      "1875/1875 [==============================] - 5s 3ms/step - loss: 0.3778 - accuracy: 0.8654 - val_loss: 0.4666 - val_accuracy: 0.8361\n",
      "Epoch 34/40\n",
      "1875/1875 [==============================] - 4s 2ms/step - loss: 0.3772 - accuracy: 0.8654 - val_loss: 0.4486 - val_accuracy: 0.8436\n",
      "Epoch 35/40\n",
      "1875/1875 [==============================] - 5s 2ms/step - loss: 0.3762 - accuracy: 0.8649 - val_loss: 0.4679 - val_accuracy: 0.8372\n",
      "Epoch 36/40\n",
      "1875/1875 [==============================] - 4s 2ms/step - loss: 0.3747 - accuracy: 0.8657 - val_loss: 0.4539 - val_accuracy: 0.8401\n",
      "Epoch 37/40\n",
      "1875/1875 [==============================] - 4s 2ms/step - loss: 0.3748 - accuracy: 0.8666 - val_loss: 0.4651 - val_accuracy: 0.8362\n",
      "Epoch 38/40\n",
      "1875/1875 [==============================] - 4s 2ms/step - loss: 0.3741 - accuracy: 0.8658 - val_loss: 0.4601 - val_accuracy: 0.8393\n",
      "Epoch 39/40\n",
      "1875/1875 [==============================] - 4s 2ms/step - loss: 0.3725 - accuracy: 0.8674 - val_loss: 0.4598 - val_accuracy: 0.8367\n",
      "Epoch 40/40\n",
      "1875/1875 [==============================] - 4s 2ms/step - loss: 0.3714 - accuracy: 0.8664 - val_loss: 0.4547 - val_accuracy: 0.8385\n"
     ]
    }
   ],
   "source": [
    "# set random seed\n",
    "tf.random.set_seed(42)\n",
    "\n",
    "# create the model\n",
    "model_3 = tf.keras.Sequential([\n",
    "    tf.keras.layers.Flatten(input_shape=(28,28)),\n",
    "    tf.keras.layers.Dense(8, activation='relu'),\n",
    "    tf.keras.layers.Dense(8, activation='relu'),\n",
    "    tf.keras.layers.Dense(10, activation='softmax')\n",
    "])\n",
    "\n",
    "# compile the model\n",
    "model_3.compile(loss=tf.keras.losses.SparseCategoricalCrossentropy(),\n",
    "               optimizer=tf.keras.optimizers.Adam(lr=0.001),\n",
    "               metrics=['accuracy'])\n",
    "\n",
    "# fit the model\n",
    "history_3 = model_3.fit(train_data,\n",
    "                       train_labels,\n",
    "                       epochs=40,\n",
    "                       validation_data=(test_data, test_labels))"
   ]
  },
  {
   "cell_type": "markdown",
   "id": "cb4c443a",
   "metadata": {},
   "source": [
    "### Model 4 : Enlarge Batch size"
   ]
  },
  {
   "cell_type": "code",
   "execution_count": 33,
   "id": "359ab9c8",
   "metadata": {},
   "outputs": [
    {
     "name": "stdout",
     "output_type": "stream",
     "text": [
      "Epoch 1/40\n",
      "938/938 [==============================] - 3s 2ms/step - loss: 0.8749 - accuracy: 0.7067 - val_loss: 0.6018 - val_accuracy: 0.7996\n",
      "Epoch 2/40\n",
      "938/938 [==============================] - 2s 2ms/step - loss: 0.5439 - accuracy: 0.8195 - val_loss: 0.5601 - val_accuracy: 0.8137\n",
      "Epoch 3/40\n",
      "938/938 [==============================] - 3s 3ms/step - loss: 0.4975 - accuracy: 0.8342 - val_loss: 0.5323 - val_accuracy: 0.8158\n",
      "Epoch 4/40\n",
      "938/938 [==============================] - 2s 2ms/step - loss: 0.4680 - accuracy: 0.8416 - val_loss: 0.4894 - val_accuracy: 0.8309\n",
      "Epoch 5/40\n",
      "938/938 [==============================] - 2s 2ms/step - loss: 0.4495 - accuracy: 0.8449 - val_loss: 0.4878 - val_accuracy: 0.8319\n",
      "Epoch 6/40\n",
      "938/938 [==============================] - 2s 2ms/step - loss: 0.4377 - accuracy: 0.8490 - val_loss: 0.4761 - val_accuracy: 0.8350\n",
      "Epoch 7/40\n",
      "938/938 [==============================] - 2s 2ms/step - loss: 0.4296 - accuracy: 0.8499 - val_loss: 0.4838 - val_accuracy: 0.8290\n",
      "Epoch 8/40\n",
      "938/938 [==============================] - 2s 2ms/step - loss: 0.4211 - accuracy: 0.8536 - val_loss: 0.4701 - val_accuracy: 0.8370\n",
      "Epoch 9/40\n",
      "938/938 [==============================] - 3s 3ms/step - loss: 0.4159 - accuracy: 0.8539 - val_loss: 0.4589 - val_accuracy: 0.8377\n",
      "Epoch 10/40\n",
      "938/938 [==============================] - 3s 3ms/step - loss: 0.4102 - accuracy: 0.8569 - val_loss: 0.4558 - val_accuracy: 0.8404\n",
      "Epoch 11/40\n",
      "938/938 [==============================] - 3s 3ms/step - loss: 0.4075 - accuracy: 0.8576 - val_loss: 0.4595 - val_accuracy: 0.8407\n",
      "Epoch 12/40\n",
      "938/938 [==============================] - 3s 3ms/step - loss: 0.4000 - accuracy: 0.8597 - val_loss: 0.4503 - val_accuracy: 0.8439\n",
      "Epoch 13/40\n",
      "938/938 [==============================] - 2s 2ms/step - loss: 0.3989 - accuracy: 0.8595 - val_loss: 0.4518 - val_accuracy: 0.8410\n",
      "Epoch 14/40\n",
      "938/938 [==============================] - 3s 3ms/step - loss: 0.3954 - accuracy: 0.8619 - val_loss: 0.4462 - val_accuracy: 0.8447\n",
      "Epoch 15/40\n",
      "938/938 [==============================] - 2s 3ms/step - loss: 0.3914 - accuracy: 0.8619 - val_loss: 0.4487 - val_accuracy: 0.8426\n",
      "Epoch 16/40\n",
      "938/938 [==============================] - 2s 2ms/step - loss: 0.3902 - accuracy: 0.8622 - val_loss: 0.4439 - val_accuracy: 0.8478\n",
      "Epoch 17/40\n",
      "938/938 [==============================] - 2s 2ms/step - loss: 0.3875 - accuracy: 0.8641 - val_loss: 0.4558 - val_accuracy: 0.8420\n",
      "Epoch 18/40\n",
      "938/938 [==============================] - 2s 3ms/step - loss: 0.3857 - accuracy: 0.8634 - val_loss: 0.4551 - val_accuracy: 0.8394\n",
      "Epoch 19/40\n",
      "938/938 [==============================] - 2s 2ms/step - loss: 0.3851 - accuracy: 0.8650 - val_loss: 0.4520 - val_accuracy: 0.8409\n",
      "Epoch 20/40\n",
      "938/938 [==============================] - 2s 2ms/step - loss: 0.3836 - accuracy: 0.8650 - val_loss: 0.4435 - val_accuracy: 0.8447\n",
      "Epoch 21/40\n",
      "938/938 [==============================] - 2s 2ms/step - loss: 0.3814 - accuracy: 0.8656 - val_loss: 0.4418 - val_accuracy: 0.8477\n",
      "Epoch 22/40\n",
      "938/938 [==============================] - 2s 2ms/step - loss: 0.3792 - accuracy: 0.8666 - val_loss: 0.4474 - val_accuracy: 0.8455\n",
      "Epoch 23/40\n",
      "938/938 [==============================] - 2s 2ms/step - loss: 0.3782 - accuracy: 0.8673 - val_loss: 0.4567 - val_accuracy: 0.8412\n",
      "Epoch 24/40\n",
      "938/938 [==============================] - 2s 2ms/step - loss: 0.3772 - accuracy: 0.8665 - val_loss: 0.4484 - val_accuracy: 0.8449\n",
      "Epoch 25/40\n",
      "938/938 [==============================] - 2s 2ms/step - loss: 0.3758 - accuracy: 0.8666 - val_loss: 0.4545 - val_accuracy: 0.8399\n",
      "Epoch 26/40\n",
      "938/938 [==============================] - 3s 3ms/step - loss: 0.3754 - accuracy: 0.8674 - val_loss: 0.4447 - val_accuracy: 0.8428\n",
      "Epoch 27/40\n",
      "938/938 [==============================] - 3s 3ms/step - loss: 0.3731 - accuracy: 0.8683 - val_loss: 0.4451 - val_accuracy: 0.8427\n",
      "Epoch 28/40\n",
      "938/938 [==============================] - 2s 2ms/step - loss: 0.3716 - accuracy: 0.8689 - val_loss: 0.4454 - val_accuracy: 0.8449\n",
      "Epoch 29/40\n",
      "938/938 [==============================] - 2s 3ms/step - loss: 0.3716 - accuracy: 0.8669 - val_loss: 0.4476 - val_accuracy: 0.8429\n",
      "Epoch 30/40\n",
      "938/938 [==============================] - 2s 2ms/step - loss: 0.3699 - accuracy: 0.8693 - val_loss: 0.4454 - val_accuracy: 0.8435\n",
      "Epoch 31/40\n",
      "938/938 [==============================] - 3s 3ms/step - loss: 0.3705 - accuracy: 0.8694 - val_loss: 0.4487 - val_accuracy: 0.8436\n",
      "Epoch 32/40\n",
      "938/938 [==============================] - 2s 3ms/step - loss: 0.3691 - accuracy: 0.8693 - val_loss: 0.4423 - val_accuracy: 0.8488\n",
      "Epoch 33/40\n",
      "938/938 [==============================] - 2s 2ms/step - loss: 0.3675 - accuracy: 0.8693 - val_loss: 0.4400 - val_accuracy: 0.8472\n",
      "Epoch 34/40\n",
      "938/938 [==============================] - 2s 2ms/step - loss: 0.3677 - accuracy: 0.8688 - val_loss: 0.4345 - val_accuracy: 0.8519\n",
      "Epoch 35/40\n",
      "938/938 [==============================] - 2s 2ms/step - loss: 0.3654 - accuracy: 0.8699 - val_loss: 0.4445 - val_accuracy: 0.8469\n",
      "Epoch 36/40\n",
      "938/938 [==============================] - 2s 2ms/step - loss: 0.3657 - accuracy: 0.8701 - val_loss: 0.4445 - val_accuracy: 0.8480\n",
      "Epoch 37/40\n",
      "938/938 [==============================] - 2s 3ms/step - loss: 0.3631 - accuracy: 0.8707 - val_loss: 0.4412 - val_accuracy: 0.8461\n",
      "Epoch 38/40\n",
      "938/938 [==============================] - 3s 3ms/step - loss: 0.3632 - accuracy: 0.8704 - val_loss: 0.4413 - val_accuracy: 0.8472\n",
      "Epoch 39/40\n",
      "938/938 [==============================] - 2s 2ms/step - loss: 0.3638 - accuracy: 0.8697 - val_loss: 0.4459 - val_accuracy: 0.8430\n",
      "Epoch 40/40\n",
      "938/938 [==============================] - 3s 3ms/step - loss: 0.3620 - accuracy: 0.8708 - val_loss: 0.4375 - val_accuracy: 0.8511\n"
     ]
    }
   ],
   "source": [
    "# set random seed\n",
    "tf.random.set_seed(42)\n",
    "\n",
    "# create the model\n",
    "model_4 = tf.keras.Sequential([\n",
    "    tf.keras.layers.Flatten(input_shape=(28,28)),\n",
    "    tf.keras.layers.Dense(8, activation='relu'),\n",
    "    tf.keras.layers.Dense(8, activation='relu'),\n",
    "    tf.keras.layers.Dense(10, activation='softmax')\n",
    "])\n",
    "\n",
    "# compile the model\n",
    "model_4.compile(loss=tf.keras.losses.SparseCategoricalCrossentropy(),\n",
    "               optimizer=tf.keras.optimizers.Adam(lr=0.001),\n",
    "               metrics=['accuracy'])\n",
    "\n",
    "# fit the model\n",
    "history_4 = model_4.fit(train_data,\n",
    "                       train_labels,\n",
    "                        batch_size=64,\n",
    "                       epochs=40,\n",
    "                       validation_data=(test_data, test_labels))"
   ]
  },
  {
   "cell_type": "markdown",
   "id": "1081845d",
   "metadata": {},
   "source": [
    "### Evaluate Model"
   ]
  },
  {
   "cell_type": "code",
   "execution_count": 14,
   "id": "8213c86c",
   "metadata": {},
   "outputs": [],
   "source": [
    "# Makes a labelled confusion matrix comparing predictions and ground truth labels\n",
    "## If classes is passed, confusion matrix will be labelled, if not, integer class values will be used\n",
    "\n",
    "import itertools\n",
    "from sklearn.metrics import confusion_matrix\n",
    "\n",
    "def make_confusion_matrix(y_true, y_pred, classes=None, figsize=(10, 10), text_size=15):\n",
    "    # Create the confustion matrix\n",
    "    cm = confusion_matrix(y_true, y_pred)\n",
    "    cm_norm = cm.astype(\"float\") / cm.sum(axis=1)[:, np.newaxis] # normalize it\n",
    "    n_classes = cm.shape[0] # find the number of classes we're dealing with\n",
    "    \n",
    "    # Plot the figure\n",
    "    fig, ax = plt.subplots(figsize=figsize)\n",
    "    cax = ax.matshow(cm, cmap=plt.cm.Blues) # colors will represent how 'correct' a class is, darker == better\n",
    "    fig.colorbar(cax)\n",
    "    \n",
    "    # Are there a list of classes?\n",
    "    if classes:\n",
    "        labels = classes\n",
    "    else:\n",
    "        labels = np.arange(cm.shape[0])\n",
    "    \n",
    "    # Label the axes\n",
    "    ax.set(title=\"Confusion Matrix\",\n",
    "           xlabel=\"Predicted label\",\n",
    "           ylabel=\"True label\",\n",
    "           xticks=np.arange(n_classes), # create enough axis slots for each class\n",
    "           yticks=np.arange(n_classes), \n",
    "           xticklabels=labels, # axes will labeled with class names (if they exist) or ints\n",
    "           yticklabels=labels)\n",
    "    \n",
    "    # Make x-axis labels appear on bottom\n",
    "    ax.xaxis.set_label_position(\"bottom\")\n",
    "    ax.xaxis.tick_bottom()\n",
    "    \n",
    "    # Set the threshold for different colors\n",
    "    threshold = (cm.max() + cm.min()) / 2.\n",
    "    \n",
    "    # Plot the text on each cell\n",
    "    for i, j in itertools.product(range(cm.shape[0]), range(cm.shape[1])):\n",
    "        plt.text(j, i, f\"{cm[i, j]} ({cm_norm[i, j]*100:.1f}%)\",\n",
    "                 horizontalalignment=\"center\",\n",
    "                 color=\"white\" if cm[i, j] > threshold else \"black\",\n",
    "                 size=text_size)"
   ]
  },
  {
   "cell_type": "code",
   "execution_count": 34,
   "id": "633825ff",
   "metadata": {},
   "outputs": [
    {
     "name": "stdout",
     "output_type": "stream",
     "text": [
      "313/313 [==============================] - 0s 897us/step\n"
     ]
    },
    {
     "data": {
      "text/plain": [
       "array([[2.95222158e-12, 5.80251314e-09, 1.92678215e-07, 1.04859441e-06,\n",
       "        1.80866884e-11, 8.03331211e-02, 6.46705259e-12, 7.16923326e-02,\n",
       "        5.48268702e-07, 8.47972751e-01],\n",
       "       [2.03168995e-04, 2.20662582e-06, 9.41386998e-01, 2.02903024e-07,\n",
       "        4.10833657e-02, 2.02923849e-17, 1.73184387e-02, 2.35106878e-24,\n",
       "        5.67081224e-06, 1.28308462e-18],\n",
       "       [3.63405590e-08, 9.99989986e-01, 5.37295541e-09, 9.81568519e-06,\n",
       "        5.25704680e-09, 1.29944346e-18, 1.78273822e-07, 7.17669022e-37,\n",
       "        1.58747251e-10, 1.09066077e-19],\n",
       "       [2.28408155e-07, 9.99879599e-01, 1.95942732e-07, 1.19232696e-04,\n",
       "        1.02893509e-07, 6.17019541e-15, 6.87134957e-07, 1.05034946e-31,\n",
       "        2.32347586e-09, 6.47872473e-16],\n",
       "       [1.28617212e-01, 2.78335967e-04, 1.68053925e-01, 1.10870833e-02,\n",
       "        1.07274674e-01, 2.43861897e-12, 5.80300093e-01, 2.94408154e-14,\n",
       "        4.38872259e-03, 1.36364170e-10]], dtype=float32)"
      ]
     },
     "execution_count": 34,
     "metadata": {},
     "output_type": "execute_result"
    }
   ],
   "source": [
    "# make prediction using model_3\n",
    "\n",
    "## Model will output prediction probability\n",
    "## The higher probability means the model believes that is the right class\n",
    "\n",
    "y_probs = model_4.predict(test_data)\n",
    "\n",
    "# view the first 5 prediction probabilities\n",
    "y_probs[:5]"
   ]
  },
  {
   "cell_type": "code",
   "execution_count": 35,
   "id": "573ded2b",
   "metadata": {},
   "outputs": [
    {
     "data": {
      "text/plain": [
       "(9, 'Ankle boot')"
      ]
     },
     "execution_count": 35,
     "metadata": {},
     "output_type": "execute_result"
    }
   ],
   "source": [
    "# See the predicted class number and label for the first example\n",
    "y_probs[0].argmax(), class_names[y_probs[0].argmax()]"
   ]
  },
  {
   "cell_type": "code",
   "execution_count": 36,
   "id": "0013dd01",
   "metadata": {},
   "outputs": [
    {
     "data": {
      "text/plain": [
       "array([9, 2, 1, 1, 6], dtype=int64)"
      ]
     },
     "execution_count": 36,
     "metadata": {},
     "output_type": "execute_result"
    }
   ],
   "source": [
    "# convert all the prediction probabilities to prediction labels\n",
    "y_preds = y_probs.argmax(axis=1)\n",
    "\n",
    "# view the first 5 prediction labels\n",
    "y_preds[:5]"
   ]
  },
  {
   "cell_type": "markdown",
   "id": "e81e73da",
   "metadata": {},
   "source": [
    "#### Confusion Matrix"
   ]
  },
  {
   "cell_type": "code",
   "execution_count": 37,
   "id": "dc4793d4",
   "metadata": {},
   "outputs": [
    {
     "data": {
      "text/plain": [
       "array([[820,   2,  15,  56,   4,   0,  88,   0,  15,   0],\n",
       "       [  5, 948,   5,  33,   5,   0,   2,   0,   2,   0],\n",
       "       [ 16,   2, 732,  13, 136,   0,  88,   0,  13,   0],\n",
       "       [ 33,  10,  12, 856,  42,   0,  35,   2,   9,   1],\n",
       "       [  0,   1,  99,  34, 775,   2,  82,   0,   7,   0],\n",
       "       [  0,   0,   0,   2,   0, 936,   0,  35,   5,  22],\n",
       "       [157,   1,  97,  39,  78,   1, 608,   3,  16,   0],\n",
       "       [  0,   0,   0,   0,   0,  26,   0, 958,   0,  16],\n",
       "       [  4,   1,   3,  15,   4,   2,  19,   6, 946,   0],\n",
       "       [  0,   0,   1,   1,   0,  15,   0,  51,   0, 932]], dtype=int64)"
      ]
     },
     "execution_count": 37,
     "metadata": {},
     "output_type": "execute_result"
    }
   ],
   "source": [
    "from sklearn.metrics import confusion_matrix\n",
    "\n",
    "confusion_matrix(y_true=test_labels, y_pred=y_preds)"
   ]
  },
  {
   "cell_type": "code",
   "execution_count": 38,
   "id": "908fef8d",
   "metadata": {},
   "outputs": [
    {
     "data": {
      "image/png": "[encoded data removed]",
      "text/plain": [
       "<Figure size 1080x1080 with 2 Axes>"
      ]
     },
     "metadata": {
      "needs_background": "light"
     },
     "output_type": "display_data"
    }
   ],
   "source": [
    "make_confusion_matrix(y_true=test_labels, \n",
    "                      y_pred=y_preds,\n",
    "                      classes=class_names,\n",
    "                      figsize=(15, 15),\n",
    "                      text_size=10)"
   ]
  },
  {
   "cell_type": "markdown",
   "id": "9ffc3479",
   "metadata": {},
   "source": [
    "1. The model mostly gets confused on predict Shirt and Pullover class. \n",
    "2. It seems to mix up classes which are similar, for example, Shirt and T-shirt/Top, Shirt and Pullover, Shirt and Coat, Coat and Pullover. \n",
    "3. The overall shape might be one of the patterns the model has learned and so therefore when two images have a similar shape, their predictions get mixed up."
   ]
  },
  {
   "cell_type": "markdown",
   "id": "fab4ca15",
   "metadata": {},
   "source": [
    "### Summary"
   ]
  },
  {
   "cell_type": "code",
   "execution_count": 39,
   "id": "47c0850d",
   "metadata": {},
   "outputs": [
    {
     "name": "stdout",
     "output_type": "stream",
     "text": [
      "313/313 [==============================] - 0s 1ms/step - loss: 0.4375 - accuracy: 0.8511\n",
      "Model loss on test set: 0.4374561905860901\n",
      "Model accuracy on test set: 85.11%\n"
     ]
    }
   ],
   "source": [
    "# the accuracy of the model\n",
    "loss, accuracy = model_4.evaluate(test_data, test_labels)\n",
    "print(f\"Model loss on test set: {loss}\")\n",
    "print(f\"Model accuracy on test set: {(accuracy*100):.2f}%\")"
   ]
  },
  {
   "cell_type": "code",
   "execution_count": 40,
   "id": "5266b03f",
   "metadata": {},
   "outputs": [
    {
     "data": {
      "text/plain": [
       "(array([[ 1.0802724 , -0.90767175, -0.06577335, ...,  0.03214733,\n",
       "          0.43584096,  0.46530914],\n",
       "        [-0.70165986,  0.0685225 ,  0.7804588 , ...,  0.00836685,\n",
       "          0.59669864, -0.61029625],\n",
       "        [-0.32164794, -1.1351919 ,  0.48704728, ...,  0.00797877,\n",
       "          1.2524124 , -0.63355625],\n",
       "        ...,\n",
       "        [-0.02772969,  0.28454778,  0.18766296, ..., -0.09203849,\n",
       "          0.28984886, -0.0407622 ],\n",
       "        [-0.47301432,  0.19970337,  0.69449025, ..., -0.04269093,\n",
       "         -0.05496743,  1.1447383 ],\n",
       "        [-0.5237885 ,  0.5319699 ,  0.23787533, ...,  0.00670667,\n",
       "          0.55667174, -0.04680058]], dtype=float32),\n",
       " (784, 8))"
      ]
     },
     "execution_count": 40,
     "metadata": {},
     "output_type": "execute_result"
    }
   ],
   "source": [
    "# Get the patterns of a layer in our network\n",
    "weights, biases = model_4.layers[1].get_weights()\n",
    "\n",
    "# weight matrix shape = input layer shape : 784 (28x28pixel) \n",
    "## each neuron has weight matrix, number of neuron = 8\n",
    "weights, weights.shape"
   ]
  },
  {
   "cell_type": "code",
   "execution_count": 41,
   "id": "ad804689",
   "metadata": {},
   "outputs": [
    {
     "name": "stdout",
     "output_type": "stream",
     "text": [
      "Model: \"sequential_8\"\n",
      "_________________________________________________________________\n",
      " Layer (type)                Output Shape              Param #   \n",
      "=================================================================\n",
      " flatten_8 (Flatten)         (None, 784)               0         \n",
      "                                                                 \n",
      " dense_24 (Dense)            (None, 8)                 6280      \n",
      "                                                                 \n",
      " dense_25 (Dense)            (None, 8)                 72        \n",
      "                                                                 \n",
      " dense_26 (Dense)            (None, 10)                90        \n",
      "                                                                 \n",
      "=================================================================\n",
      "Total params: 6,442\n",
      "Trainable params: 6,442\n",
      "Non-trainable params: 0\n",
      "_________________________________________________________________\n"
     ]
    }
   ],
   "source": [
    "# calculate the number of parameters in the model\n",
    "model_4.summary()"
   ]
  },
  {
   "cell_type": "code",
   "execution_count": null,
   "id": "464d536f",
   "metadata": {},
   "outputs": [],
   "source": [
    "from tensorflow.keras.utils import plot_model\n",
    "\n",
    "# the inputs and outputs of each layer\n",
    "plot_model(model_4, show_shapes=True)"
   ]
  }
 ],
 "metadata": {
  "kernelspec": {
   "display_name": "Python 3 (ipykernel)",
   "language": "python",
   "name": "python3"
  },
  "language_info": {
   "codemirror_mode": {
    "name": "ipython",
    "version": 3
   },
   "file_extension": ".py",
   "mimetype": "text/x-python",
   "name": "python",
   "nbconvert_exporter": "python",
   "pygments_lexer": "ipython3",
   "version": "3.9.7"
  }
 },
 "nbformat": 4,
 "nbformat_minor": 5
}
